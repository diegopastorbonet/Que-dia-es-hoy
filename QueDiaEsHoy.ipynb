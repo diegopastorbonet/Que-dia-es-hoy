{
  "nbformat": 4,
  "nbformat_minor": 0,
  "metadata": {
    "colab": {
      "provenance": []
    },
    "kernelspec": {
      "name": "python3",
      "display_name": "Python 3"
    },
    "language_info": {
      "name": "python"
    }
  },
  "cells": [
    {
      "cell_type": "markdown",
      "source": [
        "#¿Qué día es hoy?\n",
        "\n",
        "Este cuaderno sirve para generar una notificación en tu ordenador, en esta notificación se aporta información acerca del día de hoy (p.e. si hoy es Lunes de Pascua o el Día del Libro).\n",
        "\n",
        "Puede ser útil ejecutarlo periódicamente de forma automática.\n",
        "\n",
        "Es necesario tener conexión a internet, pues la información se obtiene de un portal web.\n",
        "\n",
        "Es posible que sea neceario instalar las librerías que vamos a importar en este código, estas instalaciones aparecen comentadas."
      ],
      "metadata": {
        "id": "LVSBilbSt3Cn"
      }
    },
    {
      "cell_type": "code",
      "execution_count": null,
      "metadata": {
        "id": "agIp2aEFju8x"
      },
      "outputs": [],
      "source": [
        "#!/usr/bin/python3"
      ]
    },
    {
      "cell_type": "markdown",
      "source": [
        "Esta línea funciona en caso de ejecutar este script desde la terminal de un sistema Linux, en otros casos es ignorada."
      ],
      "metadata": {
        "id": "Dc9FbojHyC02"
      }
    },
    {
      "cell_type": "code",
      "source": [
        "#Instalaciones de librerías, de ser alguna necesaria eliminar símbolo de comentario '#'\n",
        "\n",
        "#!pip install requests\n",
        "#!pip install beautifulSoup4\n",
        "#!pip install notify2"
      ],
      "metadata": {
        "id": "jlzHTDD-4DUx"
      },
      "execution_count": 38,
      "outputs": []
    },
    {
      "cell_type": "code",
      "source": [
        "#Librerías necesarias para obtener la información de internet\n",
        "import requests\n",
        "from bs4 import BeautifulSoup"
      ],
      "metadata": {
        "id": "jPQ99FdMj5pv"
      },
      "execution_count": null,
      "outputs": []
    },
    {
      "cell_type": "code",
      "source": [
        "#Mediante esta primera función se obtiene el texto completo del portal web\n",
        "def extraer_texto_desde_url(url):\n",
        "    try:\n",
        "        # Realizar la solicitud GET a la URL\n",
        "        response = requests.get(url)\n",
        "\n",
        "        # Comprobar si la solicitud fue exitosa\n",
        "        if response.status_code == 200:\n",
        "            # Obtener el contenido HTML de la página\n",
        "            html = response.text\n",
        "\n",
        "            # Parsear el HTML con BeautifulSoup\n",
        "            soup = BeautifulSoup(html, \"html.parser\")\n",
        "\n",
        "            # Encontrar todo el texto en la página\n",
        "            textorec = soup.get_text(separator=\"\\n\")\n",
        "\n",
        "            # Imprimir el texto\n",
        "            #print(textorec)\n",
        "\n",
        "            #guardamos variable\n",
        "            return textorec\n",
        "        else:\n",
        "            print(\"Error al realizar la solicitud GET\")\n",
        "    except Exception as e:\n",
        "        print(\"Ocurrió un error:\", e)\n",
        "\n",
        "url = \"https://www.diainternacionalde.com/\"\n",
        "textorec = extraer_texto_desde_url(url)"
      ],
      "metadata": {
        "id": "X5NoG8LJj-9q"
      },
      "execution_count": null,
      "outputs": []
    },
    {
      "cell_type": "markdown",
      "source": [
        "Las funciones siguientes se encargan de limpiar el texto y darle el formato adecuado"
      ],
      "metadata": {
        "id": "HMzVw15r25Xy"
      }
    },
    {
      "cell_type": "code",
      "source": [
        "import re\n",
        "\n",
        "\n",
        "def extraer_texto_entre_cadenas(texto):\n",
        "    # Patrón de expresión regular para encontrar el texto específico que buscamos\n",
        "    patron = r'Hoy(.*?)A un click'\n",
        "    # Buscar coincidencias en el texto\n",
        "    coincidencias = re.search(patron, texto, re.DOTALL)\n",
        "    if coincidencias:\n",
        "        # Devolver el texto encontrado\n",
        "        return coincidencias.group(1).strip()\n",
        "    else:\n",
        "        return \"No se encontraron coincidencias\"\n",
        "\n",
        "\n",
        "# Llamar a la función con el texto de ejemplo\n",
        "texto_extraido = extraer_texto_entre_cadenas(textorec)\n",
        "#print(texto_extraido)"
      ],
      "metadata": {
        "id": "MPBsDDukmdnt"
      },
      "execution_count": null,
      "outputs": []
    },
    {
      "cell_type": "code",
      "source": [
        "def eliminar_filas_vacias(texto):\n",
        "    # Dividir el texto en líneas\n",
        "    lineas = texto.split('\\n')\n",
        "\n",
        "    # Eliminar las líneas vacías\n",
        "    lineas_filtradas = [linea for linea in lineas if linea.strip()]\n",
        "\n",
        "    # Unir las líneas restantes en un solo texto\n",
        "    texto_filtrado = '\\n'.join(lineas_filtradas)\n",
        "    #print(texto_filtrado)\n",
        "\n",
        "    return texto_filtrado\n",
        "\n",
        "texto_extraido = eliminar_filas_vacias(texto_extraido)"
      ],
      "metadata": {
        "id": "0ZUTZ9sWp8tj"
      },
      "execution_count": 29,
      "outputs": []
    },
    {
      "cell_type": "code",
      "source": [
        "def separar_primera_linea(texto):\n",
        "    # Dividir el texto en líneas\n",
        "    lineas = texto.split('\\n', 1)\n",
        "\n",
        "    # Extraer la primera línea y el resto del texto\n",
        "    primera_linea = lineas[0]\n",
        "    resto_texto = lineas[1] if len(lineas) > 1 else ''\n",
        "\n",
        "    return primera_linea, resto_texto\n",
        "\n",
        "\n",
        "primera_linea, resto_texto = separar_primera_linea(texto_extraido)\n",
        "\n",
        "#print(\"Primera línea:\", primera_linea)\n",
        "#print(\"Resto del texto:\")\n",
        "#print(resto_texto)"
      ],
      "metadata": {
        "id": "t2U4R6yAzFsK"
      },
      "execution_count": 32,
      "outputs": []
    },
    {
      "cell_type": "code",
      "source": [
        "def eliminar_lineas_numeradas(texto):\n",
        "    # Dividir el texto en líneas\n",
        "    lineas = texto.split('\\n')\n",
        "\n",
        "    # Filtrar las líneas que no comienzan con un número\n",
        "    lineas_filtradas = [linea for linea in lineas if not re.match(r'^\\s*\\d', linea)]\n",
        "\n",
        "    # Unir las líneas filtradas en un solo texto\n",
        "    texto_filtrado = '\\n'.join(lineas_filtradas)\n",
        "\n",
        "    return texto_filtrado\n",
        "\n",
        "\n",
        "texto_extraido = eliminar_lineas_numeradas(resto_texto)\n",
        "\n",
        "#print(texto_extraido)"
      ],
      "metadata": {
        "id": "bnefhVRAzhNe"
      },
      "execution_count": 31,
      "outputs": []
    },
    {
      "cell_type": "code",
      "source": [
        "def agregar_salto_despues_de_se(texto):\n",
        "    # Dividir el texto en líneas\n",
        "    lineas = texto.split('\\n')\n",
        "\n",
        "    # Procesar cada línea\n",
        "    lineas_procesadas = []\n",
        "    for linea in lineas:\n",
        "        if re.match(r'^\\s*Se', linea):\n",
        "            # Si la línea comienza con \"Se\", agregar un salto después de ella\n",
        "            lineas_procesadas.append(linea)\n",
        "            lineas_procesadas.append('')  # Agregar línea vacía\n",
        "        else:\n",
        "            lineas_procesadas.append(linea)\n",
        "\n",
        "    # Unir las líneas procesadas en un solo texto\n",
        "    texto_procesado = '\\n'.join(lineas_procesadas)\n",
        "\n",
        "    return texto_procesado\n",
        "\n",
        "texto_extraido = agregar_salto_despues_de_se(texto_extraido)\n",
        "\n",
        "#print(texto_extraido)"
      ],
      "metadata": {
        "id": "hMGJYkRl0A7b"
      },
      "execution_count": 33,
      "outputs": []
    },
    {
      "cell_type": "markdown",
      "source": [
        "La función siguiente sirve para generar la notificación"
      ],
      "metadata": {
        "id": "omethqlZ3NbI"
      }
    },
    {
      "cell_type": "code",
      "source": [
        "import notify2\n",
        "\n",
        "def enviar_notificacion(titulo, mensaje):\n",
        "    # Inicializar la librería de notificaciones\n",
        "    notify2.init(\"Notificaciones\")\n",
        "\n",
        "    # Crear una nueva notificación\n",
        "    notificacion = notify2.Notification(titulo, mensaje)\n",
        "\n",
        "    # Mostrar la notificación\n",
        "    notificacion.show()\n",
        "\n",
        "# Ejemplo de uso\n",
        "enviar_notificacion(primera_linea, texto_extraido)\n"
      ],
      "metadata": {
        "id": "pWsNNUG8pG42"
      },
      "execution_count": null,
      "outputs": []
    }
  ]
}